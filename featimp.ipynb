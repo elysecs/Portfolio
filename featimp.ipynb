{
 "cells": [
  {
   "cell_type": "code",
   "execution_count": 27,
   "id": "modern-blair",
   "metadata": {},
   "outputs": [],
   "source": [
    "import numpy as np\n",
    "import pandas as pd\n",
    "import matplotlib.pyplot as plt\n",
    "import seaborn as sns\n",
    "from sklearn.datasets           import load_boston\n",
    "from sklearn.linear_model       import LinearRegression\n",
    "from sklearn.ensemble           import RandomForestRegressor\n",
    "from sklearn.model_selection    import train_test_split\n",
    "from sklearn.metrics            import mean_absolute_error, mean_squared_error, r2_score\n",
    "from sklearn.decomposition      import PCA\n",
    "from sklearn.preprocessing      import StandardScaler\n",
    "import warnings\n",
    "warnings.filterwarnings(\"ignore\")"
   ]
  },
  {
   "cell_type": "markdown",
   "id": "artistic-maldives",
   "metadata": {},
   "source": [
    "# Feature Importance\n",
    "\n",
    "***Note:*** The underlying functions I wrote to support this notebook are not public as requested by my professor. I would be happy to share or discuss in a private setting.\n",
    "\n",
    "At the core of data science is not only model predictions, but also the explanatory power of models. In a business setting, it is often not enough to produce correct answers. One must be able to interpret model parameters to potentially help guide business decisions. Feature importance is one such tool that can provide insights on how the predictor features relate to the target. Importances have the additional benefit of identifying unnecessary or unhelpful features which can be dropped to save model training time and compututational resources.\n",
    "\n",
    "The default feature importances method in sciki-learn's [Random Forest](https://scikit-learn.org/stable/modules/generated/sklearn.ensemble.RandomForestRegressor.html#sklearn.ensemble.RandomForestRegressor.feature_importances_) algorithms is Gini importance which \"can be misleading for high cardinality features.\"\n",
    "\n",
    "The purpose of this article is to explore other options for feature importance:\n",
    " - Feature Based\n",
    "     - Spearmans' Rho\n",
    "     - Principal Component Analysis\n",
    " - Model Based\n",
    "     - Drop Column Importance\n",
    "     - Permutation Column Importance\n",
    "     \n",
    "The example dataset will be sklearn's boston dataset:\n",
    " - Target: median value of owner-occupied homes ($1000s)\n",
    " - Predictors: 13 numeric and categorical variables"
   ]
  },
  {
   "cell_type": "code",
   "execution_count": 247,
   "id": "critical-beach",
   "metadata": {},
   "outputs": [],
   "source": [
    "%run featimp"
   ]
  },
  {
   "cell_type": "code",
   "execution_count": 3,
   "id": "other-gibraltar",
   "metadata": {},
   "outputs": [],
   "source": [
    "boston = load_boston()\n",
    "X, y = boston.data, boston.target\n",
    "features = boston.feature_names"
   ]
  },
  {
   "cell_type": "code",
   "execution_count": 22,
   "id": "ultimate-surname",
   "metadata": {},
   "outputs": [
    {
     "data": {
      "text/html": [
       "<div>\n",
       "<style scoped>\n",
       "    .dataframe tbody tr th:only-of-type {\n",
       "        vertical-align: middle;\n",
       "    }\n",
       "\n",
       "    .dataframe tbody tr th {\n",
       "        vertical-align: top;\n",
       "    }\n",
       "\n",
       "    .dataframe thead th {\n",
       "        text-align: right;\n",
       "    }\n",
       "</style>\n",
       "<table border=\"1\" class=\"dataframe\">\n",
       "  <thead>\n",
       "    <tr style=\"text-align: right;\">\n",
       "      <th></th>\n",
       "      <th>CRIM</th>\n",
       "      <th>ZN</th>\n",
       "      <th>INDUS</th>\n",
       "      <th>CHAS</th>\n",
       "      <th>NOX</th>\n",
       "      <th>RM</th>\n",
       "      <th>AGE</th>\n",
       "      <th>DIS</th>\n",
       "      <th>RAD</th>\n",
       "      <th>TAX</th>\n",
       "      <th>PTRATIO</th>\n",
       "      <th>B</th>\n",
       "      <th>LSTAT</th>\n",
       "      <th>price</th>\n",
       "    </tr>\n",
       "  </thead>\n",
       "  <tbody>\n",
       "    <tr>\n",
       "      <th>0</th>\n",
       "      <td>0.00632</td>\n",
       "      <td>18.0</td>\n",
       "      <td>2.31</td>\n",
       "      <td>0.0</td>\n",
       "      <td>0.538</td>\n",
       "      <td>6.575</td>\n",
       "      <td>65.2</td>\n",
       "      <td>4.0900</td>\n",
       "      <td>1.0</td>\n",
       "      <td>296.0</td>\n",
       "      <td>15.3</td>\n",
       "      <td>396.90</td>\n",
       "      <td>4.98</td>\n",
       "      <td>24.0</td>\n",
       "    </tr>\n",
       "    <tr>\n",
       "      <th>1</th>\n",
       "      <td>0.02731</td>\n",
       "      <td>0.0</td>\n",
       "      <td>7.07</td>\n",
       "      <td>0.0</td>\n",
       "      <td>0.469</td>\n",
       "      <td>6.421</td>\n",
       "      <td>78.9</td>\n",
       "      <td>4.9671</td>\n",
       "      <td>2.0</td>\n",
       "      <td>242.0</td>\n",
       "      <td>17.8</td>\n",
       "      <td>396.90</td>\n",
       "      <td>9.14</td>\n",
       "      <td>21.6</td>\n",
       "    </tr>\n",
       "    <tr>\n",
       "      <th>2</th>\n",
       "      <td>0.02729</td>\n",
       "      <td>0.0</td>\n",
       "      <td>7.07</td>\n",
       "      <td>0.0</td>\n",
       "      <td>0.469</td>\n",
       "      <td>7.185</td>\n",
       "      <td>61.1</td>\n",
       "      <td>4.9671</td>\n",
       "      <td>2.0</td>\n",
       "      <td>242.0</td>\n",
       "      <td>17.8</td>\n",
       "      <td>392.83</td>\n",
       "      <td>4.03</td>\n",
       "      <td>34.7</td>\n",
       "    </tr>\n",
       "    <tr>\n",
       "      <th>3</th>\n",
       "      <td>0.03237</td>\n",
       "      <td>0.0</td>\n",
       "      <td>2.18</td>\n",
       "      <td>0.0</td>\n",
       "      <td>0.458</td>\n",
       "      <td>6.998</td>\n",
       "      <td>45.8</td>\n",
       "      <td>6.0622</td>\n",
       "      <td>3.0</td>\n",
       "      <td>222.0</td>\n",
       "      <td>18.7</td>\n",
       "      <td>394.63</td>\n",
       "      <td>2.94</td>\n",
       "      <td>33.4</td>\n",
       "    </tr>\n",
       "    <tr>\n",
       "      <th>4</th>\n",
       "      <td>0.06905</td>\n",
       "      <td>0.0</td>\n",
       "      <td>2.18</td>\n",
       "      <td>0.0</td>\n",
       "      <td>0.458</td>\n",
       "      <td>7.147</td>\n",
       "      <td>54.2</td>\n",
       "      <td>6.0622</td>\n",
       "      <td>3.0</td>\n",
       "      <td>222.0</td>\n",
       "      <td>18.7</td>\n",
       "      <td>396.90</td>\n",
       "      <td>5.33</td>\n",
       "      <td>36.2</td>\n",
       "    </tr>\n",
       "  </tbody>\n",
       "</table>\n",
       "</div>"
      ],
      "text/plain": [
       "      CRIM    ZN  INDUS  CHAS    NOX     RM   AGE     DIS  RAD    TAX  \\\n",
       "0  0.00632  18.0   2.31   0.0  0.538  6.575  65.2  4.0900  1.0  296.0   \n",
       "1  0.02731   0.0   7.07   0.0  0.469  6.421  78.9  4.9671  2.0  242.0   \n",
       "2  0.02729   0.0   7.07   0.0  0.469  7.185  61.1  4.9671  2.0  242.0   \n",
       "3  0.03237   0.0   2.18   0.0  0.458  6.998  45.8  6.0622  3.0  222.0   \n",
       "4  0.06905   0.0   2.18   0.0  0.458  7.147  54.2  6.0622  3.0  222.0   \n",
       "\n",
       "   PTRATIO       B  LSTAT  price  \n",
       "0     15.3  396.90   4.98   24.0  \n",
       "1     17.8  396.90   9.14   21.6  \n",
       "2     17.8  392.83   4.03   34.7  \n",
       "3     18.7  394.63   2.94   33.4  \n",
       "4     18.7  396.90   5.33   36.2  "
      ]
     },
     "execution_count": 22,
     "metadata": {},
     "output_type": "execute_result"
    }
   ],
   "source": [
    "x_df = pd.DataFrame(X,columns=features)\n",
    "y_df = pd.DataFrame(y,columns=['price'])\n",
    "df = pd.concat([x_df,y_df],axis=1)\n",
    "df.head()"
   ]
  },
  {
   "cell_type": "markdown",
   "id": "loving-rocket",
   "metadata": {},
   "source": [
    "## Feature Based Strategy\n",
    "\n",
    "Importances from this strategy are calculated without models and solely use the data.\n",
    "\n",
    "### Spearman's Rho\n",
    "\n",
    "- *What*: \n",
    "  - Correlation coefficient calculated on continuous variables\n",
    "- *How*: \n",
    "  - Replace data with their ranks then compute the Pearson correlation coefficient\n",
    "- *Importances*: \n",
    "  - Features with the highest coefficient (positive or negative) are more important for predicting the target\n",
    "- *Benefits*: \n",
    "  - Using ranks rather than the actual data makes Spearman's rho less sensitive to outliers and departures from a normal distribution\n",
    "- *Issues*: \n",
    "  - Cannot be used on categorical values with more than two classes\n",
    "  - Simple as it only considers linear correlation\n",
    "\n",
    "To calculate Spearman's rho:\n",
    " - drop categorical variables with more than 2 classes\n",
    " - specify 'spearman' in pandas correlation method\n",
    " - extract target column and sort by absolute values"
   ]
  },
  {
   "cell_type": "code",
   "execution_count": 171,
   "id": "shared-geography",
   "metadata": {},
   "outputs": [
    {
     "data": {
      "text/html": [
       "<div>\n",
       "<style scoped>\n",
       "    .dataframe tbody tr th:only-of-type {\n",
       "        vertical-align: middle;\n",
       "    }\n",
       "\n",
       "    .dataframe tbody tr th {\n",
       "        vertical-align: top;\n",
       "    }\n",
       "\n",
       "    .dataframe thead th {\n",
       "        text-align: right;\n",
       "    }\n",
       "</style>\n",
       "<table border=\"1\" class=\"dataframe\">\n",
       "  <thead>\n",
       "    <tr style=\"text-align: right;\">\n",
       "      <th></th>\n",
       "      <th>price</th>\n",
       "    </tr>\n",
       "  </thead>\n",
       "  <tbody>\n",
       "    <tr>\n",
       "      <th>LSTAT</th>\n",
       "      <td>0.852914</td>\n",
       "    </tr>\n",
       "    <tr>\n",
       "      <th>RM</th>\n",
       "      <td>0.633576</td>\n",
       "    </tr>\n",
       "    <tr>\n",
       "      <th>INDUS</th>\n",
       "      <td>0.578255</td>\n",
       "    </tr>\n",
       "    <tr>\n",
       "      <th>NOX</th>\n",
       "      <td>0.562609</td>\n",
       "    </tr>\n",
       "    <tr>\n",
       "      <th>TAX</th>\n",
       "      <td>0.562411</td>\n",
       "    </tr>\n",
       "    <tr>\n",
       "      <th>CRIM</th>\n",
       "      <td>0.558891</td>\n",
       "    </tr>\n",
       "    <tr>\n",
       "      <th>PTRATIO</th>\n",
       "      <td>0.555905</td>\n",
       "    </tr>\n",
       "    <tr>\n",
       "      <th>AGE</th>\n",
       "      <td>0.547562</td>\n",
       "    </tr>\n",
       "    <tr>\n",
       "      <th>DIS</th>\n",
       "      <td>0.445857</td>\n",
       "    </tr>\n",
       "    <tr>\n",
       "      <th>ZN</th>\n",
       "      <td>0.438179</td>\n",
       "    </tr>\n",
       "    <tr>\n",
       "      <th>RAD</th>\n",
       "      <td>0.346776</td>\n",
       "    </tr>\n",
       "    <tr>\n",
       "      <th>B</th>\n",
       "      <td>0.185664</td>\n",
       "    </tr>\n",
       "    <tr>\n",
       "      <th>CHAS</th>\n",
       "      <td>0.140612</td>\n",
       "    </tr>\n",
       "  </tbody>\n",
       "</table>\n",
       "</div>"
      ],
      "text/plain": [
       "            price\n",
       "LSTAT    0.852914\n",
       "RM       0.633576\n",
       "INDUS    0.578255\n",
       "NOX      0.562609\n",
       "TAX      0.562411\n",
       "CRIM     0.558891\n",
       "PTRATIO  0.555905\n",
       "AGE      0.547562\n",
       "DIS      0.445857\n",
       "ZN       0.438179\n",
       "RAD      0.346776\n",
       "B        0.185664\n",
       "CHAS     0.140612"
      ]
     },
     "execution_count": 171,
     "metadata": {},
     "output_type": "execute_result"
    }
   ],
   "source": [
    "# Spearman's rho for price sorted by absolute value\n",
    "corr = df.corr(method='spearman')\n",
    "corr_sort = corr[['price']].apply(np.abs).sort_values(by=['price'], ascending=False).iloc[1:,:]\n",
    "corr_sort"
   ]
  },
  {
   "cell_type": "markdown",
   "id": "critical-curve",
   "metadata": {},
   "source": [
    "Because correlation can be negative or positive, we sort by the absolute value and see that LSTAT (lower status of the population) and RM (average number of rooms per dwelling) are most correlated with price."
   ]
  },
  {
   "cell_type": "markdown",
   "id": "medieval-hacker",
   "metadata": {},
   "source": [
    "# Principal Component Analysis (PCA)\n",
    "\n",
    "- *What*: \n",
    "   - Recomputed X array in which each feature accounts for more variance in data than the following feature\n",
    "   - All features are uncorrelated\n",
    "   - Has the same dimensions as input X\n",
    "- *How*: \n",
    "  - Uses covariance matrix and related eigenvectors and eigenvalues to create linear combinations of input features\n",
    "- *Importances*: \n",
    "  - Features ranked by order (first feature is most important, second feature is second most important etc)\n",
    "- *Benefits*: \n",
    "  - Dimensionality reduction by choosing a threshold (i.e. 95%) and only using k features in the model\n",
    "- *Issues*: \n",
    "  - Not interpretable as features are \"principal components\" rather than tangible data points\n",
    "  - Although choosing k based on a high threshold will allow the model to see a large majority of input data, it will not see full variation of feature data if dimension is reduced.\n",
    "\n",
    "To calculate PCA features:\n",
    " - Standardize data (required so that features with large ranges will not dominate those will small ranges)\n",
    " - Calculate eigenvectors and eigenvalues from covariance matrix\n",
    " - Construct principal components as linear combinations of input variables such that: new variables are uncorrelated and most information in first component, second most information in second component, and so on"
   ]
  },
  {
   "cell_type": "code",
   "execution_count": 28,
   "id": "diagnostic-stack",
   "metadata": {},
   "outputs": [],
   "source": [
    "# Standardize data\n",
    "X_scaled = StandardScaler().fit_transform(X)"
   ]
  },
  {
   "cell_type": "code",
   "execution_count": 232,
   "id": "harmful-connectivity",
   "metadata": {},
   "outputs": [],
   "source": [
    "# Create n-dimension PCA\n",
    "n = X_scaled.shape[1]\n",
    "pca = PCA(n)\n",
    "X_pca = pca.fit_transform(X_scaled)"
   ]
  },
  {
   "cell_type": "markdown",
   "id": "apart-shield",
   "metadata": {},
   "source": [
    "First observation in X after applying PCA (its values are unbound to anything in the real world):"
   ]
  },
  {
   "cell_type": "code",
   "execution_count": 44,
   "id": "developed-terrorism",
   "metadata": {},
   "outputs": [
    {
     "data": {
      "text/plain": [
       "array([-2.098,  0.773,  0.343, -0.892,  0.423, -0.315,  0.319,  0.296,\n",
       "       -0.425,  0.64 , -0.033,  0.019,  0.366])"
      ]
     },
     "execution_count": 44,
     "metadata": {},
     "output_type": "execute_result"
    }
   ],
   "source": [
    "# First observation\n",
    "X_pca[0].round(3)"
   ]
  },
  {
   "cell_type": "markdown",
   "id": "automatic-healing",
   "metadata": {},
   "source": [
    "\n",
    "\n",
    "For the 13 dimensional principal components, the first feature explains 47% of the variation in X and the second feature explains 11%. Together, the first and second features cumulatively explain 58%. When all features have been accounted for, the principal components will account for 100% of the variation in X."
   ]
  },
  {
   "cell_type": "code",
   "execution_count": 50,
   "id": "simple-interaction",
   "metadata": {},
   "outputs": [
    {
     "name": "stdout",
     "output_type": "stream",
     "text": [
      "Explained Variance: \n",
      " [0.471 0.11  0.096 0.066 0.064 0.051 0.041 0.03  0.021 0.017 0.014 0.013\n",
      " 0.005] \n",
      "\n",
      "Cumulative Explained Variance: \n",
      " [0.47129606 0.581548   0.67713389 0.74310121 0.80731782 0.8578876\n",
      " 0.89906884 0.92953786 0.9508412  0.96778257 0.98209137 0.99511467\n",
      " 1.        ]\n"
     ]
    }
   ],
   "source": [
    "# Explained variance per PC\n",
    "pca_evr = pca.explained_variance_ratio_\n",
    "print('Explained Variance: \\n', pca_evr.round(3), '\\n')\n",
    "print('Cumulative Explained Variance: \\n', np.cumsum(pca_evr))"
   ]
  },
  {
   "cell_type": "code",
   "execution_count": 240,
   "id": "excess-david",
   "metadata": {},
   "outputs": [
    {
     "data": {
      "image/png": "[encoded data removed]",
      "text/plain": [
       "<Figure size 432x288 with 1 Axes>"
      ]
     },
     "metadata": {
      "needs_background": "light"
     },
     "output_type": "display_data"
    }
   ],
   "source": [
    "fig, ax = plt.subplots(figsize=(6,4))\n",
    "plt.bar(range(1,n+1),pca_evr)\n",
    "plt.title('Variation Explained by Principal Components')\n",
    "ax.spines['top'].set_visible(False)\n",
    "ax.spines['right'].set_visible(False)\n",
    "plt.show()"
   ]
  },
  {
   "cell_type": "markdown",
   "id": "blind-hostel",
   "metadata": {},
   "source": [
    "## Model Based Strategy\n",
    "\n",
    "Importances calculated by comparing metrics as various changes are made to the input data.\n",
    "\n",
    "### Permutation Importance\n",
    "\n",
    "- *How*: \n",
    "  - Features permuted iteratively\n",
    "  - Metric recalculated and compared to baseline\n",
    "  - Both the above use the test dataset\n",
    "- *Importances*: \n",
    "  - Features with the greatest difference between the baseline and recalculated metric are considered most important\n",
    "- *Benefits*: \n",
    "  - Can be computed without retraining model which can be computationally expensive\n",
    "- *Issues*: \n",
    "  - Correlated features may appear more important than they actually are\n",
    "\n",
    "To calculate:\n",
    " - Train a model and record baseline metric\n",
    " - Using test data, for each column, permute values and recalculate metric using pretrained model\n",
    " - Compute difference between the recalculated metric and the baseline"
   ]
  },
  {
   "cell_type": "code",
   "execution_count": 131,
   "id": "thirty-looking",
   "metadata": {},
   "outputs": [
    {
     "data": {
      "text/plain": [
       "RandomForestRegressor()"
      ]
     },
     "execution_count": 131,
     "metadata": {},
     "output_type": "execute_result"
    }
   ],
   "source": [
    "# Train initial model\n",
    "rf = RandomForestRegressor()\n",
    "rf.fit(X_train, y_train.values.ravel())"
   ]
  },
  {
   "cell_type": "code",
   "execution_count": 181,
   "id": "arranged-blast",
   "metadata": {},
   "outputs": [
    {
     "data": {
      "text/html": [
       "<div>\n",
       "<style scoped>\n",
       "    .dataframe tbody tr th:only-of-type {\n",
       "        vertical-align: middle;\n",
       "    }\n",
       "\n",
       "    .dataframe tbody tr th {\n",
       "        vertical-align: top;\n",
       "    }\n",
       "\n",
       "    .dataframe thead th {\n",
       "        text-align: right;\n",
       "    }\n",
       "</style>\n",
       "<table border=\"1\" class=\"dataframe\">\n",
       "  <thead>\n",
       "    <tr style=\"text-align: right;\">\n",
       "      <th></th>\n",
       "      <th>Importances</th>\n",
       "    </tr>\n",
       "  </thead>\n",
       "  <tbody>\n",
       "    <tr>\n",
       "      <th>LSTAT</th>\n",
       "      <td>74.333385</td>\n",
       "    </tr>\n",
       "    <tr>\n",
       "      <th>RM</th>\n",
       "      <td>41.078421</td>\n",
       "    </tr>\n",
       "    <tr>\n",
       "      <th>NOX</th>\n",
       "      <td>4.245393</td>\n",
       "    </tr>\n",
       "    <tr>\n",
       "      <th>CRIM</th>\n",
       "      <td>3.636084</td>\n",
       "    </tr>\n",
       "    <tr>\n",
       "      <th>DIS</th>\n",
       "      <td>3.483645</td>\n",
       "    </tr>\n",
       "    <tr>\n",
       "      <th>PTRATIO</th>\n",
       "      <td>2.224210</td>\n",
       "    </tr>\n",
       "    <tr>\n",
       "      <th>B</th>\n",
       "      <td>1.023680</td>\n",
       "    </tr>\n",
       "    <tr>\n",
       "      <th>AGE</th>\n",
       "      <td>0.770386</td>\n",
       "    </tr>\n",
       "    <tr>\n",
       "      <th>TAX</th>\n",
       "      <td>0.765665</td>\n",
       "    </tr>\n",
       "    <tr>\n",
       "      <th>INDUS</th>\n",
       "      <td>0.324470</td>\n",
       "    </tr>\n",
       "    <tr>\n",
       "      <th>RAD</th>\n",
       "      <td>0.222688</td>\n",
       "    </tr>\n",
       "    <tr>\n",
       "      <th>CHAS</th>\n",
       "      <td>0.009247</td>\n",
       "    </tr>\n",
       "    <tr>\n",
       "      <th>ZN</th>\n",
       "      <td>-0.022649</td>\n",
       "    </tr>\n",
       "  </tbody>\n",
       "</table>\n",
       "</div>"
      ],
      "text/plain": [
       "         Importances\n",
       "LSTAT      74.333385\n",
       "RM         41.078421\n",
       "NOX         4.245393\n",
       "CRIM        3.636084\n",
       "DIS         3.483645\n",
       "PTRATIO     2.224210\n",
       "B           1.023680\n",
       "AGE         0.770386\n",
       "TAX         0.765665\n",
       "INDUS       0.324470\n",
       "RAD         0.222688\n",
       "CHAS        0.009247\n",
       "ZN         -0.022649"
      ]
     },
     "execution_count": 181,
     "metadata": {},
     "output_type": "execute_result"
    }
   ],
   "source": [
    "# Permutation Importance using pretrained model\n",
    "I_permcol = permutation_imp(rf, X_test, y_test, mean_squared_error)\n",
    "I_permcol['Importances'] = I_permcol['Importances']*-1 # multiply by -1 since negative MSE\n",
    "I_permcol = I_permcol.sort_values(by=['Importances'],ascending=False)\n",
    "I_permcol"
   ]
  },
  {
   "cell_type": "markdown",
   "id": "complimentary-sitting",
   "metadata": {},
   "source": [
    "### Drop Column Importance\n",
    "\n",
    "- *How*: \n",
    "  - Features dropped iteratively\n",
    "  - Model retrained without dropped column\n",
    "  - Metric recalculated and compared to baseline\n",
    "- *Importances*: \n",
    "  - Features with the greatest difference between the baseline and recalculated metric are considered most important\n",
    "- *Benefits*: \n",
    "  - Intuitively, dropping a feature is the most accurate way to see a feature's importance to a target\n",
    "- *Issues*: \n",
    "  - Computationally expensive since new model must be trained for each dropped column\n",
    "  - Similar to permutation importance, inflated importance for correlated features\n",
    "\n",
    "To calculate:\n",
    " - Train a model and record baseline metric\n",
    " - Drop column, train new model, and calculate new metric\n",
    " - Compute difference between the new metric and the baseline"
   ]
  },
  {
   "cell_type": "code",
   "execution_count": 222,
   "id": "detected-recovery",
   "metadata": {},
   "outputs": [
    {
     "data": {
      "text/html": [
       "<div>\n",
       "<style scoped>\n",
       "    .dataframe tbody tr th:only-of-type {\n",
       "        vertical-align: middle;\n",
       "    }\n",
       "\n",
       "    .dataframe tbody tr th {\n",
       "        vertical-align: top;\n",
       "    }\n",
       "\n",
       "    .dataframe thead th {\n",
       "        text-align: right;\n",
       "    }\n",
       "</style>\n",
       "<table border=\"1\" class=\"dataframe\">\n",
       "  <thead>\n",
       "    <tr style=\"text-align: right;\">\n",
       "      <th></th>\n",
       "      <th>Importances</th>\n",
       "    </tr>\n",
       "  </thead>\n",
       "  <tbody>\n",
       "    <tr>\n",
       "      <th>RM</th>\n",
       "      <td>6.659976</td>\n",
       "    </tr>\n",
       "    <tr>\n",
       "      <th>LSTAT</th>\n",
       "      <td>3.918843</td>\n",
       "    </tr>\n",
       "    <tr>\n",
       "      <th>NOX</th>\n",
       "      <td>0.781871</td>\n",
       "    </tr>\n",
       "    <tr>\n",
       "      <th>TAX</th>\n",
       "      <td>0.598182</td>\n",
       "    </tr>\n",
       "    <tr>\n",
       "      <th>CRIM</th>\n",
       "      <td>0.340849</td>\n",
       "    </tr>\n",
       "    <tr>\n",
       "      <th>PTRATIO</th>\n",
       "      <td>0.269271</td>\n",
       "    </tr>\n",
       "    <tr>\n",
       "      <th>DIS</th>\n",
       "      <td>0.178680</td>\n",
       "    </tr>\n",
       "    <tr>\n",
       "      <th>B</th>\n",
       "      <td>0.118829</td>\n",
       "    </tr>\n",
       "    <tr>\n",
       "      <th>RAD</th>\n",
       "      <td>0.057006</td>\n",
       "    </tr>\n",
       "    <tr>\n",
       "      <th>CHAS</th>\n",
       "      <td>-0.001898</td>\n",
       "    </tr>\n",
       "    <tr>\n",
       "      <th>ZN</th>\n",
       "      <td>-0.012534</td>\n",
       "    </tr>\n",
       "    <tr>\n",
       "      <th>INDUS</th>\n",
       "      <td>-0.021834</td>\n",
       "    </tr>\n",
       "    <tr>\n",
       "      <th>AGE</th>\n",
       "      <td>-0.162184</td>\n",
       "    </tr>\n",
       "  </tbody>\n",
       "</table>\n",
       "</div>"
      ],
      "text/plain": [
       "         Importances\n",
       "RM          6.659976\n",
       "LSTAT       3.918843\n",
       "NOX         0.781871\n",
       "TAX         0.598182\n",
       "CRIM        0.340849\n",
       "PTRATIO     0.269271\n",
       "DIS         0.178680\n",
       "B           0.118829\n",
       "RAD         0.057006\n",
       "CHAS       -0.001898\n",
       "ZN         -0.012534\n",
       "INDUS      -0.021834\n",
       "AGE        -0.162184"
      ]
     },
     "execution_count": 222,
     "metadata": {},
     "output_type": "execute_result"
    }
   ],
   "source": [
    "I_dropcol = dropcol_importances(RandomForestRegressor(), x_df, y_df, mean_squared_error)\n",
    "I_dropcol['Importances'] = I_dropcol['Importances']*-1 # multiply by -1 since negative MSE\n",
    "I_dropcol = I_dropcol.sort_values(by=['Importances'],ascending=False)\n",
    "I_dropcol"
   ]
  },
  {
   "cell_type": "markdown",
   "id": "later-quarter",
   "metadata": {},
   "source": [
    "Permutation importance and drop column importance give similar orders of feature importance but different values."
   ]
  },
  {
   "cell_type": "markdown",
   "id": "judicial-wednesday",
   "metadata": {},
   "source": [
    "### Comparing Importance Strategies"
   ]
  },
  {
   "cell_type": "markdown",
   "id": "surrounded-louis",
   "metadata": {},
   "source": [
    "Here are the most important features as ranked by the different strategies. Ordinary Least Squares is added to show another simple option."
   ]
  },
  {
   "cell_type": "code",
   "execution_count": 189,
   "id": "color-choice",
   "metadata": {},
   "outputs": [],
   "source": [
    "# OLS: Use absolute value of regression coefficients as importances\n",
    "regr = LinearRegression().fit(X, y)\n",
    "I_regr = list(zip(features,regr.coef_.round(2)))\n",
    "I_regr.sort(key=lambda x: abs(x[1]),reverse=True)\n",
    "I_regr = pd.DataFrame(I_regr,columns=['col','Importances']).set_index('col')\n",
    "I_regr['Importances'] = abs(I_regr['Importances']) # use absolute value since coeffiencts can be positive or negative\n",
    "I_regr.index.name = None"
   ]
  },
  {
   "cell_type": "code",
   "execution_count": 226,
   "id": "compliant-chocolate",
   "metadata": {},
   "outputs": [
    {
     "data": {
      "image/png": "[encoded data removed]",
      "text/plain": [
       "<Figure size 720x360 with 8 Axes>"
      ]
     },
     "metadata": {
      "needs_background": "light"
     },
     "output_type": "display_data"
    }
   ],
   "source": [
    "fig, axs = plt.subplots(ncols=4, figsize=(10,5))\n",
    "fig.suptitle('Feature Importances by Strategy', size=14)\n",
    "plt.subplots_adjust(wspace = 2)\n",
    "sns.heatmap(corr_sort.rename(columns={\"price\": \"Importances\"}), annot=True, cmap='Reds',fmt='.2f', ax=axs[0])\n",
    "sns.heatmap(I_regr, annot=True, cmap='Reds',fmt='.2f', ax=axs[1])\n",
    "sns.heatmap(I_permcol, annot=True, cmap='Reds',fmt='.2f', ax=axs[2])\n",
    "sns.heatmap(I_dropcol, annot=True, cmap='Reds',fmt='.2f', ax=axs[3])\n",
    "axs[0].set_title('Spearman')\n",
    "axs[1].set_title('OLS')\n",
    "axs[2].set_title('Permutation')\n",
    "axs[3].set_title('Drop Column')\n",
    "plt.tight_layout(pad=50)\n",
    "plt.show()"
   ]
  },
  {
   "cell_type": "markdown",
   "id": "little-capability",
   "metadata": {},
   "source": [
    "Although the units of these importances are different (Spearman correlation coefficients, OLS parameter coefficients, and permutation/drop column MSE decrease), the order of features and relative importance can be reviewed. There is a fair bit of variability between the features identified by each strategy; however permutation and drop column do have similar orders."
   ]
  },
  {
   "cell_type": "markdown",
   "id": "illegal-stable",
   "metadata": {},
   "source": [
    "To further compare these strategies, we do a 5 fold cross validation starting with only the most important feature, train a model, and record the score. On the next iteration, the next most important feature is also included in the model and so on until all features have been included. The results of the change in metric are plotted below."
   ]
  },
  {
   "cell_type": "code",
   "execution_count": 228,
   "id": "backed-hardwood",
   "metadata": {},
   "outputs": [
    {
     "data": {
      "text/plain": [
       "Index(['LSTAT', 'RM', 'INDUS', 'NOX', 'TAX', 'CRIM', 'PTRATIO', 'AGE', 'DIS',\n",
       "       'ZN', 'RAD', 'B', 'CHAS'],\n",
       "      dtype='object')"
      ]
     },
     "execution_count": 228,
     "metadata": {},
     "output_type": "execute_result"
    }
   ],
   "source": [
    "# Get column names ordered by importance\n",
    "perm_cols = I_permcol.index\n",
    "drop_cols = I_dropcol.index\n",
    "spearman_cols = corr_sort.index\n",
    "regr_cols = [x[0] for x in I_regr]\n",
    "spearman_cols"
   ]
  },
  {
   "cell_type": "code",
   "execution_count": 229,
   "id": "declared-seafood",
   "metadata": {},
   "outputs": [],
   "source": [
    "# Compute 5-fold CV metrics\n",
    "spearman_metrics = k_impfts_colname(RandomForestRegressor(),spearman_cols, x_df, y_df, 'neg_mean_squared_error')\n",
    "pca_metrics = k_impfts_colidx(RandomForestRegressor(),X_pca,y,'neg_mean_squared_error')\n",
    "perm_metrics = k_impfts_colname(RandomForestRegressor(),perm_cols, x_df, y_df, 'neg_mean_squared_error')\n",
    "drop_metrics = k_impfts_colname(RandomForestRegressor(),drop_cols, x_df, y_df, 'neg_mean_squared_error')\n",
    "regr_metrics = k_impfts_colname(LinearRegression(),regr_cols, x_df, y_df, 'neg_mean_squared_error')\n",
    "result={'spearman':spearman_metrics, 'PCA':pca_metrics, \n",
    "        'permutation':perm_metrics,'drop':drop_metrics,'regr':regr_metrics}"
   ]
  },
  {
   "cell_type": "code",
   "execution_count": 224,
   "id": "particular-paint",
   "metadata": {},
   "outputs": [
    {
     "data": {
      "image/png": "[encoded data removed]",
      "text/plain": [
       "<Figure size 720x360 with 1 Axes>"
      ]
     },
     "metadata": {
      "needs_background": "light"
     },
     "output_type": "display_data"
    }
   ],
   "source": [
    "fig, ax = plt.subplots(figsize=(10,5))\n",
    "fig.suptitle('Change in MSE as Important Features Added to Model', fontsize=16, x=.4, y=.96)\n",
    "\n",
    "plt.plot(result['spearman'],label='Spearman')\n",
    "plt.plot(result['PCA'], label='PCA')\n",
    "plt.plot(result['permutation'],label='Permutation')\n",
    "plt.plot(result['drop'], label='Drop Column')\n",
    "plt.plot(result['regr'], label='OLS')\n",
    "ax.set_ylabel('5-fold CV MSE ($1000)', color='#2D3234')\n",
    "ax.set_xlabel('Top k Most Important Features', color='#2D3234')\n",
    "plt.xticks(range(13),color='#2D3234')\n",
    "ax.set_xticklabels(range(1,14),color='#383B40', fontsize=10)\n",
    "ax.legend()\n",
    "\n",
    "ax.spines['top'].set_visible(False)\n",
    "ax.spines['right'].set_visible(False)\n",
    "plt.show()"
   ]
  },
  {
   "cell_type": "markdown",
   "id": "hydraulic-overview",
   "metadata": {},
   "source": [
    "For this dataset, Spearman, Permutation, and Drop Column perform similarly plateauing around 9 features. Feature importance is useful in this small dataset to provide insights for model interpretation. We may choose to drop features with negative importances, but it is not too computationally expensive to run a model with all features. \n",
    "\n",
    "In a large dataset however, feature importance may play a more critical role in feature selection. We wouldn't want to run a model on unnecessary or unimportant features if model training was computationally expensive. Although PCA did not perform well in this analysis, its dimension reduction while still capturing data variability could be extremely handy for saving training time and computational resources."
   ]
  },
  {
   "cell_type": "markdown",
   "id": "sitting-flood",
   "metadata": {},
   "source": [
    "### Automatic Feature Selection\n",
    "\n",
    "Using the importances, features can be dropped iteratively until the metric does not to improve. In the brief example below, the least important column as identified by drop column importance is dropped but the metric is not improved. Thus, the algorithm suggests that the best model includes all features. Again, while this smaller model does not improve by dropping low importance features, a bigger model with more features and observations may show more improvement in terms of metric and computation time."
   ]
  },
  {
   "cell_type": "code",
   "execution_count": 249,
   "id": "nasty-sugar",
   "metadata": {},
   "outputs": [
    {
     "name": "stdout",
     "output_type": "stream",
     "text": [
      "Baseline:  21.73\n",
      "New metric: 22.02  Column dropped: ZN\n",
      "Best features:  ['LSTAT', 'RM', 'DIS', 'NOX', 'PTRATIO', 'B', 'CRIM', 'TAX', 'CHAS', 'INDUS', 'RAD', 'AGE', 'ZN']\n"
     ]
    }
   ],
   "source": [
    "# Run automatic selection -> dropping ZN does not improve metric\n",
    "best_cols = auto_ft_selection(x_df,y_df)\n",
    "print('Best features: ', best_cols)"
   ]
  }
 ],
 "metadata": {
  "kernelspec": {
   "display_name": "Python 3",
   "language": "python",
   "name": "python3"
  },
  "language_info": {
   "codemirror_mode": {
    "name": "ipython",
    "version": 3
   },
   "file_extension": ".py",
   "mimetype": "text/x-python",
   "name": "python",
   "nbconvert_exporter": "python",
   "pygments_lexer": "ipython3",
   "version": "3.8.6"
  }
 },
 "nbformat": 4,
 "nbformat_minor": 5
}
